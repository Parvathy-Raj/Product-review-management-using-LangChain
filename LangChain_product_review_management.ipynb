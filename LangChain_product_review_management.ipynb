{
  "nbformat": 4,
  "nbformat_minor": 0,
  "metadata": {
    "colab": {
      "provenance": []
    },
    "kernelspec": {
      "name": "python3",
      "display_name": "Python 3"
    },
    "language_info": {
      "name": "python"
    }
  },
  "cells": [
    {
      "cell_type": "code",
      "execution_count": null,
      "metadata": {
        "colab": {
          "base_uri": "https://localhost:8080/"
        },
        "id": "INZAFr3uSm-c",
        "outputId": "0093ddfa-89fd-47df-e2ca-d35d6b196429"
      },
      "outputs": [
        {
          "output_type": "stream",
          "name": "stdout",
          "text": [
            "Collecting langchain\n",
            "  Downloading langchain-0.0.309-py3-none-any.whl (1.8 MB)\n",
            "\u001b[?25l     \u001b[90m━━━━━━━━━━━━━━━━━━━━━━━━━━━━━━━━━━━━━━━━\u001b[0m \u001b[32m0.0/1.8 MB\u001b[0m \u001b[31m?\u001b[0m eta \u001b[36m-:--:--\u001b[0m\r\u001b[2K     \u001b[91m━━━\u001b[0m\u001b[90m╺\u001b[0m\u001b[90m━━━━━━━━━━━━━━━━━━━━━━━━━━━━━━━━━━━━\u001b[0m \u001b[32m0.1/1.8 MB\u001b[0m \u001b[31m4.1 MB/s\u001b[0m eta \u001b[36m0:00:01\u001b[0m\r\u001b[2K     \u001b[91m━━━━━━━━━━━━━━━━━━━━━━━━━━━━━━━━━━\u001b[0m\u001b[91m╸\u001b[0m\u001b[90m━━━━━\u001b[0m \u001b[32m1.6/1.8 MB\u001b[0m \u001b[31m22.7 MB/s\u001b[0m eta \u001b[36m0:00:01\u001b[0m\r\u001b[2K     \u001b[90m━━━━━━━━━━━━━━━━━━━━━━━━━━━━━━━━━━━━━━━━\u001b[0m \u001b[32m1.8/1.8 MB\u001b[0m \u001b[31m20.0 MB/s\u001b[0m eta \u001b[36m0:00:00\u001b[0m\n",
            "\u001b[?25hRequirement already satisfied: PyYAML>=5.3 in /usr/local/lib/python3.10/dist-packages (from langchain) (6.0.1)\n",
            "Requirement already satisfied: SQLAlchemy<3,>=1.4 in /usr/local/lib/python3.10/dist-packages (from langchain) (2.0.21)\n",
            "Requirement already satisfied: aiohttp<4.0.0,>=3.8.3 in /usr/local/lib/python3.10/dist-packages (from langchain) (3.8.5)\n",
            "Requirement already satisfied: anyio<4.0 in /usr/local/lib/python3.10/dist-packages (from langchain) (3.7.1)\n",
            "Requirement already satisfied: async-timeout<5.0.0,>=4.0.0 in /usr/local/lib/python3.10/dist-packages (from langchain) (4.0.3)\n",
            "Collecting dataclasses-json<0.7,>=0.5.7 (from langchain)\n",
            "  Downloading dataclasses_json-0.6.1-py3-none-any.whl (27 kB)\n",
            "Collecting jsonpatch<2.0,>=1.33 (from langchain)\n",
            "  Downloading jsonpatch-1.33-py2.py3-none-any.whl (12 kB)\n",
            "Collecting langsmith<0.1.0,>=0.0.40 (from langchain)\n",
            "  Downloading langsmith-0.0.43-py3-none-any.whl (40 kB)\n",
            "\u001b[2K     \u001b[90m━━━━━━━━━━━━━━━━━━━━━━━━━━━━━━━━━━━━━━━━\u001b[0m \u001b[32m40.0/40.0 kB\u001b[0m \u001b[31m3.0 MB/s\u001b[0m eta \u001b[36m0:00:00\u001b[0m\n",
            "\u001b[?25hRequirement already satisfied: numpy<2,>=1 in /usr/local/lib/python3.10/dist-packages (from langchain) (1.23.5)\n",
            "Requirement already satisfied: pydantic<3,>=1 in /usr/local/lib/python3.10/dist-packages (from langchain) (1.10.13)\n",
            "Requirement already satisfied: requests<3,>=2 in /usr/local/lib/python3.10/dist-packages (from langchain) (2.31.0)\n",
            "Requirement already satisfied: tenacity<9.0.0,>=8.1.0 in /usr/local/lib/python3.10/dist-packages (from langchain) (8.2.3)\n",
            "Requirement already satisfied: attrs>=17.3.0 in /usr/local/lib/python3.10/dist-packages (from aiohttp<4.0.0,>=3.8.3->langchain) (23.1.0)\n",
            "Requirement already satisfied: charset-normalizer<4.0,>=2.0 in /usr/local/lib/python3.10/dist-packages (from aiohttp<4.0.0,>=3.8.3->langchain) (3.3.0)\n",
            "Requirement already satisfied: multidict<7.0,>=4.5 in /usr/local/lib/python3.10/dist-packages (from aiohttp<4.0.0,>=3.8.3->langchain) (6.0.4)\n",
            "Requirement already satisfied: yarl<2.0,>=1.0 in /usr/local/lib/python3.10/dist-packages (from aiohttp<4.0.0,>=3.8.3->langchain) (1.9.2)\n",
            "Requirement already satisfied: frozenlist>=1.1.1 in /usr/local/lib/python3.10/dist-packages (from aiohttp<4.0.0,>=3.8.3->langchain) (1.4.0)\n",
            "Requirement already satisfied: aiosignal>=1.1.2 in /usr/local/lib/python3.10/dist-packages (from aiohttp<4.0.0,>=3.8.3->langchain) (1.3.1)\n",
            "Requirement already satisfied: idna>=2.8 in /usr/local/lib/python3.10/dist-packages (from anyio<4.0->langchain) (3.4)\n",
            "Requirement already satisfied: sniffio>=1.1 in /usr/local/lib/python3.10/dist-packages (from anyio<4.0->langchain) (1.3.0)\n",
            "Requirement already satisfied: exceptiongroup in /usr/local/lib/python3.10/dist-packages (from anyio<4.0->langchain) (1.1.3)\n",
            "Collecting marshmallow<4.0.0,>=3.18.0 (from dataclasses-json<0.7,>=0.5.7->langchain)\n",
            "  Downloading marshmallow-3.20.1-py3-none-any.whl (49 kB)\n",
            "\u001b[2K     \u001b[90m━━━━━━━━━━━━━━━━━━━━━━━━━━━━━━━━━━━━━━━━\u001b[0m \u001b[32m49.4/49.4 kB\u001b[0m \u001b[31m2.8 MB/s\u001b[0m eta \u001b[36m0:00:00\u001b[0m\n",
            "\u001b[?25hCollecting typing-inspect<1,>=0.4.0 (from dataclasses-json<0.7,>=0.5.7->langchain)\n",
            "  Downloading typing_inspect-0.9.0-py3-none-any.whl (8.8 kB)\n",
            "Collecting jsonpointer>=1.9 (from jsonpatch<2.0,>=1.33->langchain)\n",
            "  Downloading jsonpointer-2.4-py2.py3-none-any.whl (7.8 kB)\n",
            "Requirement already satisfied: typing-extensions>=4.2.0 in /usr/local/lib/python3.10/dist-packages (from pydantic<3,>=1->langchain) (4.5.0)\n",
            "Requirement already satisfied: urllib3<3,>=1.21.1 in /usr/local/lib/python3.10/dist-packages (from requests<3,>=2->langchain) (2.0.6)\n",
            "Requirement already satisfied: certifi>=2017.4.17 in /usr/local/lib/python3.10/dist-packages (from requests<3,>=2->langchain) (2023.7.22)\n",
            "Requirement already satisfied: greenlet!=0.4.17 in /usr/local/lib/python3.10/dist-packages (from SQLAlchemy<3,>=1.4->langchain) (3.0.0)\n",
            "Requirement already satisfied: packaging>=17.0 in /usr/local/lib/python3.10/dist-packages (from marshmallow<4.0.0,>=3.18.0->dataclasses-json<0.7,>=0.5.7->langchain) (23.2)\n",
            "Collecting mypy-extensions>=0.3.0 (from typing-inspect<1,>=0.4.0->dataclasses-json<0.7,>=0.5.7->langchain)\n",
            "  Downloading mypy_extensions-1.0.0-py3-none-any.whl (4.7 kB)\n",
            "Installing collected packages: mypy-extensions, marshmallow, jsonpointer, typing-inspect, langsmith, jsonpatch, dataclasses-json, langchain\n",
            "Successfully installed dataclasses-json-0.6.1 jsonpatch-1.33 jsonpointer-2.4 langchain-0.0.309 langsmith-0.0.43 marshmallow-3.20.1 mypy-extensions-1.0.0 typing-inspect-0.9.0\n"
          ]
        }
      ],
      "source": [
        "!pip install langchain"
      ]
    },
    {
      "cell_type": "code",
      "source": [
        "!pip install cohere"
      ],
      "metadata": {
        "colab": {
          "base_uri": "https://localhost:8080/"
        },
        "id": "T8aVqzjgSqYs",
        "outputId": "270296f5-cab6-4f91-8bb2-99fc974ffae6"
      },
      "execution_count": null,
      "outputs": [
        {
          "output_type": "stream",
          "name": "stdout",
          "text": [
            "Collecting cohere\n",
            "  Downloading cohere-4.27-py3-none-any.whl (47 kB)\n",
            "\u001b[?25l     \u001b[90m━━━━━━━━━━━━━━━━━━━━━━━━━━━━━━━━━━━━━━━━\u001b[0m \u001b[32m0.0/47.6 kB\u001b[0m \u001b[31m?\u001b[0m eta \u001b[36m-:--:--\u001b[0m\r\u001b[2K     \u001b[90m━━━━━━━━━━━━━━━━━━━━━━━━━━━━━━━━━━━━━━━━\u001b[0m \u001b[32m47.6/47.6 kB\u001b[0m \u001b[31m1.5 MB/s\u001b[0m eta \u001b[36m0:00:00\u001b[0m\n",
            "\u001b[?25hRequirement already satisfied: aiohttp<4.0,>=3.0 in /usr/local/lib/python3.10/dist-packages (from cohere) (3.8.5)\n",
            "Collecting backoff<3.0,>=2.0 (from cohere)\n",
            "  Downloading backoff-2.2.1-py3-none-any.whl (15 kB)\n",
            "Collecting fastavro==1.8.2 (from cohere)\n",
            "  Downloading fastavro-1.8.2-cp310-cp310-manylinux_2_17_x86_64.manylinux2014_x86_64.whl (2.7 MB)\n",
            "\u001b[2K     \u001b[90m━━━━━━━━━━━━━━━━━━━━━━━━━━━━━━━━━━━━━━━━\u001b[0m \u001b[32m2.7/2.7 MB\u001b[0m \u001b[31m23.3 MB/s\u001b[0m eta \u001b[36m0:00:00\u001b[0m\n",
            "\u001b[?25hRequirement already satisfied: importlib_metadata<7.0,>=6.0 in /usr/local/lib/python3.10/dist-packages (from cohere) (6.8.0)\n",
            "Requirement already satisfied: requests<3.0.0,>=2.25.0 in /usr/local/lib/python3.10/dist-packages (from cohere) (2.31.0)\n",
            "Requirement already satisfied: urllib3<3,>=1.26 in /usr/local/lib/python3.10/dist-packages (from cohere) (2.0.6)\n",
            "Requirement already satisfied: attrs>=17.3.0 in /usr/local/lib/python3.10/dist-packages (from aiohttp<4.0,>=3.0->cohere) (23.1.0)\n",
            "Requirement already satisfied: charset-normalizer<4.0,>=2.0 in /usr/local/lib/python3.10/dist-packages (from aiohttp<4.0,>=3.0->cohere) (3.3.0)\n",
            "Requirement already satisfied: multidict<7.0,>=4.5 in /usr/local/lib/python3.10/dist-packages (from aiohttp<4.0,>=3.0->cohere) (6.0.4)\n",
            "Requirement already satisfied: async-timeout<5.0,>=4.0.0a3 in /usr/local/lib/python3.10/dist-packages (from aiohttp<4.0,>=3.0->cohere) (4.0.3)\n",
            "Requirement already satisfied: yarl<2.0,>=1.0 in /usr/local/lib/python3.10/dist-packages (from aiohttp<4.0,>=3.0->cohere) (1.9.2)\n",
            "Requirement already satisfied: frozenlist>=1.1.1 in /usr/local/lib/python3.10/dist-packages (from aiohttp<4.0,>=3.0->cohere) (1.4.0)\n",
            "Requirement already satisfied: aiosignal>=1.1.2 in /usr/local/lib/python3.10/dist-packages (from aiohttp<4.0,>=3.0->cohere) (1.3.1)\n",
            "Requirement already satisfied: zipp>=0.5 in /usr/local/lib/python3.10/dist-packages (from importlib_metadata<7.0,>=6.0->cohere) (3.17.0)\n",
            "Requirement already satisfied: idna<4,>=2.5 in /usr/local/lib/python3.10/dist-packages (from requests<3.0.0,>=2.25.0->cohere) (3.4)\n",
            "Requirement already satisfied: certifi>=2017.4.17 in /usr/local/lib/python3.10/dist-packages (from requests<3.0.0,>=2.25.0->cohere) (2023.7.22)\n",
            "Installing collected packages: fastavro, backoff, cohere\n",
            "Successfully installed backoff-2.2.1 cohere-4.27 fastavro-1.8.2\n"
          ]
        }
      ]
    },
    {
      "cell_type": "code",
      "source": [
        "from langchain.llms import Cohere #importing the model cohere\n",
        "from langchain.prompts import PromptTemplate # for creating promt-template\n",
        "from langchain.chains import LLMChain #for initiliazing chains\n",
        "\n",
        "#for processing outputs\n",
        "from langchain.output_parsers import ResponseSchema\n",
        "from langchain.output_parsers import StructuredOutputParser\n",
        "\n",
        "#for implementing sequential-chains\n",
        "from langchain.chains import SequentialChain"
      ],
      "metadata": {
        "id": "_wAZi7eaSza7"
      },
      "execution_count": null,
      "outputs": []
    },
    {
      "cell_type": "code",
      "source": [
        "api_key = \"RMzcnbmHz0eC9E6DOuHxqZ7kUku5QqqSoQ2DuRQr\""
      ],
      "metadata": {
        "id": "QMoZU37rXY_e"
      },
      "execution_count": null,
      "outputs": []
    },
    {
      "cell_type": "code",
      "source": [
        "llm = Cohere(cohere_api_key=api_key) #initializing the model"
      ],
      "metadata": {
        "id": "PgxJEGrUXoT6"
      },
      "execution_count": null,
      "outputs": []
    },
    {
      "cell_type": "code",
      "source": [
        "prompt_base = \"\"\"\n",
        "generate a review in ```{language}```\\\n",
        "on product name ```{product}```\\\n",
        "of length thats apxm ```{word_length}``` words\\\n",
        "in a ```{tone}``` manner\\\n",
        "based on features, pros and cons of the product given below and their satisfactory level(out of 5)\\\n",
        "features: ```{features}```\\\n",
        "pros: ```{pros}```\\\n",
        "cons: ```{cons}```\\\n",
        "satisfactory-level: (```{satisfactory_level}```/5)\\\n",
        "\"\"\"\n"
      ],
      "metadata": {
        "id": "GJrxODyjYZPx"
      },
      "execution_count": null,
      "outputs": []
    },
    {
      "cell_type": "code",
      "source": [
        "prompt_base"
      ],
      "metadata": {
        "colab": {
          "base_uri": "https://localhost:8080/",
          "height": 53
        },
        "id": "pEVIQU9lac1_",
        "outputId": "76743258-a199-4913-9100-70f79441881b"
      },
      "execution_count": null,
      "outputs": [
        {
          "output_type": "execute_result",
          "data": {
            "text/plain": [
              "'\\ngenerate a review in ```{language}```on product name ```{product}```of length thats apxm ```{word_length}``` wordsin a ```{tone}``` mannerbased on features, pros and cons of the product given below and their satisfactory level(out of 5)features: ```{features}```pros: ```{pros}```cons: ```{cons}```satisfactory-level: (```{satisfactory_level}```/5)'"
            ],
            "application/vnd.google.colaboratory.intrinsic+json": {
              "type": "string"
            }
          },
          "metadata": {},
          "execution_count": 9
        }
      ]
    },
    {
      "cell_type": "code",
      "source": [
        "prompt = PromptTemplate(template=prompt_base, input_variables=[\n",
        "    \"language\",\n",
        "    \"product\",\n",
        "    \"word_length\",\n",
        "    \"tone\",\n",
        "    \"features\",\n",
        "    \"pros\",\n",
        "    \"cons\",\n",
        "    \"satisfactory_level\"\n",
        "    ])\n"
      ],
      "metadata": {
        "id": "l3Kj7EBWbMtN"
      },
      "execution_count": null,
      "outputs": []
    },
    {
      "cell_type": "code",
      "source": [
        "prompt.input_variables #listing all variables"
      ],
      "metadata": {
        "colab": {
          "base_uri": "https://localhost:8080/"
        },
        "id": "zK8V9XMBc-AE",
        "outputId": "e0567cff-bc36-404a-cfa2-fde1aea7ea07"
      },
      "execution_count": null,
      "outputs": [
        {
          "output_type": "execute_result",
          "data": {
            "text/plain": [
              "['language',\n",
              " 'product',\n",
              " 'word_length',\n",
              " 'tone',\n",
              " 'features',\n",
              " 'pros',\n",
              " 'cons',\n",
              " 'satisfactory_level']"
            ]
          },
          "metadata": {},
          "execution_count": 11
        }
      ]
    },
    {
      "cell_type": "code",
      "source": [
        "prompt.template #printing the template"
      ],
      "metadata": {
        "colab": {
          "base_uri": "https://localhost:8080/",
          "height": 53
        },
        "id": "5Feo1YnEdKig",
        "outputId": "c3c5c943-73ce-4cb9-be06-eed259d47865"
      },
      "execution_count": null,
      "outputs": [
        {
          "output_type": "execute_result",
          "data": {
            "text/plain": [
              "'\\ngenerate a review in ```{language}```on product name ```{product}```of length thats apxm ```{word_length}``` wordsin a ```{tone}``` mannerbased on features, pros and cons of the product given below and their satisfactory level(out of 5)features: ```{features}```pros: ```{pros}```cons: ```{cons}```satisfactory-level: (```{satisfactory_level}```/5)'"
            ],
            "application/vnd.google.colaboratory.intrinsic+json": {
              "type": "string"
            }
          },
          "metadata": {},
          "execution_count": 12
        }
      ]
    },
    {
      "cell_type": "code",
      "source": [
        "llm_chain = LLMChain(prompt=prompt, llm =llm) #llm chains are used to combine llm with other variables"
      ],
      "metadata": {
        "id": "RxYPqCPBdSbG"
      },
      "execution_count": null,
      "outputs": []
    },
    {
      "cell_type": "code",
      "source": [
        "response = llm_chain.run(\n",
        "    language=\"English\",\n",
        "    product=\"IPHONE 15 PRO MAX\",\n",
        "    word_length=\"50-60\",\n",
        "    tone=\"amazed\",\n",
        "    features=\"\"\"\n",
        "      6.7 inch screen\n",
        "      bezel-less screen\n",
        "      super-powered m2 chip (processor)\n",
        "      high-battery life\n",
        "      color: space-gray\n",
        "    \"\"\",\n",
        "    pros=\"\"\"\n",
        "      light-weight titanium frame\n",
        "      sleek design with round edges\n",
        "      dynmaic-island with state-of-the-art updations\n",
        "      ios support for 7+ years\n",
        "    \"\"\",\n",
        "    cons=\"\"\"\n",
        "      battery dries away, way before the promised time-span\n",
        "      phone heats up too much\n",
        "      front-screen is too brittle\n",
        "      image quality shot in mobile is not up to par\n",
        "\n",
        "\n",
        "    \"\"\",\n",
        "    satisfactory_level=\"4.1\"\n",
        ") # executing the chain\n",
        "\n"
      ],
      "metadata": {
        "id": "eNTy8ip1e0i4"
      },
      "execution_count": null,
      "outputs": []
    },
    {
      "cell_type": "code",
      "source": [
        "print(response)"
      ],
      "metadata": {
        "colab": {
          "base_uri": "https://localhost:8080/"
        },
        "id": "EOfFi0Hie90o",
        "outputId": "b02c130f-617c-40ab-cf74-93bae8d8590c"
      },
      "execution_count": null,
      "outputs": [
        {
          "output_type": "stream",
          "name": "stdout",
          "text": [
            " The iPhone 15 Pro Max is a gorgeous device with a stunning, bezel-less 6.7-inch screen. It features a super-powered M2 chip and iOS support for 7+ years, a dynamic island with state-of-the-art updates, and a sleek design with round edges and a light-weight titanium frame. However, the battery life is disappointing and doesn't last as long as promised, and the image quality shot on the mobile is not up to par. But despite these cons, I am amazed by this phone's overall performance and features, and I give it a satisfactory level of 4.1 out of 5.\n"
          ]
        }
      ]
    },
    {
      "cell_type": "markdown",
      "source": [
        "Text expansion"
      ],
      "metadata": {
        "id": "SD8KqAqQzeBU"
      }
    },
    {
      "cell_type": "code",
      "source": [
        "expansion_template = \"\"\"\n",
        "\n",
        "\n",
        "system-prompt: you are a product analyzer and product adovcate, who reply to cosumer queries\n",
        "\n",
        "\n",
        "<<<<<<<<<<<<<<<<<<<<<<<<<<<<<<<<<<<<<<<<<<<<<<<>>>>>>>>>>>>>>>>>>>>>>>>>>>>>>>>>>>>>>>>>>>>>\n",
        "\n",
        "\n",
        "write me an email by analyzing the user-review given below, which would be\\\n",
        "sent to the receiver as mentioned. compliment users for good reviews and\\\n",
        "promise them about improvements to made on bad-reviews\n",
        "\n",
        "\n",
        "<<<<<<<<<<<<<<<<<<<<<<<<<<<<<<<<<<<<<<<<<<<<<<<>>>>>>>>>>>>>>>>>>>>>>>>>>>>>>>>>>>>>>>>>>>>>\n",
        "\n",
        "\n",
        "to(user/reciever): {receivers_name}\n",
        "\n",
        "\n",
        "<<<<<<<<<<<<<<<<<<<<<<<<<<<<<<<<<<<<<<<<<<<<<<<>>>>>>>>>>>>>>>>>>>>>>>>>>>>>>>>>>>>>>>>>>>>>\n",
        "\n",
        "\n",
        "from(product-manager/sender): product_manager@gmail.com\n",
        "\n",
        "\n",
        "<<<<<<<<<<<<<<<<<<<<<<<<<<<<<<<<<<<<<<<<<<<<<<<>>>>>>>>>>>>>>>>>>>>>>>>>>>>>>>>>>>>>>>>>>>>>\n",
        "\n",
        "\n",
        "user-review: {users_review}\n",
        "\n",
        "\n",
        "<<<<<<<<<<<<<<<<<<<<<<<<<<<<<<<<<<<<<<<<<<<<<<<<<<>>>>>>>>>>>>>>>>>>>>>>>>>>>>>>>>>>>>>>>>>\n",
        "\n",
        "\n",
        "output: just the email, no other reply is necessary\n",
        "\"\"\"\n",
        "\n"
      ],
      "metadata": {
        "id": "fQqb935kfNgx"
      },
      "execution_count": null,
      "outputs": []
    },
    {
      "cell_type": "code",
      "source": [
        "expansion_chain=LLMChain(prompt=expansion_prompt,llm=llm)"
      ],
      "metadata": {
        "id": "tvZnjuJmta8S"
      },
      "execution_count": null,
      "outputs": []
    },
    {
      "cell_type": "code",
      "source": [
        "expansion_prompt = PromptTemplate(template=expansion_template, input_variables=[\n",
        "  \"receivers_name\",\n",
        "  \"users_review\"\n",
        "    ])"
      ],
      "metadata": {
        "id": "I5C8zd3-uFNO"
      },
      "execution_count": null,
      "outputs": []
    },
    {
      "cell_type": "code",
      "source": [
        "expansion_chain.run(\n",
        "  receivers_name = \"parvathy\",\n",
        "  users_review = \"\"\"\n",
        "  Now when you talk about buying MacBooks, they have gone up the price levels in the \\\n",
        "    past few years. The basic MacBook Air now comes for over Rs 1 lakh in the country. But if you \\\n",
        "    still need a reliable machine, people find it worth the investment. But, laptops are heating up\\\n",
        "    very fast + batter-life isnt as stable as expected... so check to that Apple\n",
        "  \"\"\"\n",
        ")"
      ],
      "metadata": {
        "colab": {
          "base_uri": "https://localhost:8080/",
          "height": 70
        },
        "id": "C7NrwJB5vR37",
        "outputId": "559eb7bf-100e-4e5b-849d-75cabdb5f16a"
      },
      "execution_count": null,
      "outputs": [
        {
          "output_type": "execute_result",
          "data": {
            "text/plain": [
              "' Hello Parvathy,\\n\\nThank you for sharing your thoughts on the MacBook Air. We appreciate your review and we are grateful for your support.\\n\\nWe would like to inform you that we have taken your feedback regarding the heating up of laptops and battery life into consideration. We want to assure you that we are working on improvements in these areas.\\n\\nThank you once again for your time and for being a customer of ours.\\n\\nBest regards,\\n\\nThe Product Manager'"
            ],
            "application/vnd.google.colaboratory.intrinsic+json": {
              "type": "string"
            }
          },
          "metadata": {},
          "execution_count": 30
        }
      ]
    },
    {
      "cell_type": "markdown",
      "source": [
        "Text Summarization"
      ],
      "metadata": {
        "id": "8QQ9b9TNzXXk"
      }
    },
    {
      "cell_type": "code",
      "source": [
        "summarization_base = \"\"\"\n",
        "\n",
        "\n",
        "Product/Service Reviewed: ```{products_name}```\n",
        "\n",
        "\n",
        "<<<<<<<<<<<<<<<<<<<<<<<<<<<<>>>>>>>>>>>>>>>>>>>>>>>>>>>>>>>>>\n",
        "\n",
        "\n",
        "User Review Source: ```{users_review}```\n",
        "\n",
        "\n",
        "<<<<<<<<<<<<<<<<<<<<<<<<<<<<>>>>>>>>>>>>>>>>>>>>>>>>>>>>>>>>>\n",
        "\n",
        "\n",
        "Reviewer's Name: ```{users_name}```\n",
        "\n",
        "\n",
        "<<<<<<<<<<<<<<<<<<<<<<<<<<<<>>>>>>>>>>>>>>>>>>>>>>>>>>>>>>>>>\n",
        "\n",
        "\n",
        "Review Date: ```{review_date}```\n",
        "\n",
        "\n",
        "<<<<<<<<<<<<<<<<<<<<<<<<<<<<>>>>>>>>>>>>>>>>>>>>>>>>>>>>>>>>>\n",
        "\n",
        "\n",
        "Review Rating: ```{rating}```\n",
        "\n",
        "\n",
        "<<<<<<<<<<<<<<<<<<<<<<<<<<<<>>>>>>>>>>>>>>>>>>>>>>>>>>>>>>>>>\n",
        "\n",
        "\n",
        "Review Summary:\n",
        "\n",
        "\n",
        "[Write a concise and objective summary of the user\\\n",
        " review. Highlight key points, opinions, and insights shared\\\n",
        " by the reviewer. Mention any pros and cons mentioned\\\n",
        " by the reviewer.]\n",
        "\"\"\"\n"
      ],
      "metadata": {
        "id": "BHzdlNWZvWkQ"
      },
      "execution_count": null,
      "outputs": []
    },
    {
      "cell_type": "code",
      "source": [
        "summarization_prompt = PromptTemplate(template=summarization_base, input_variables=[\n",
        "  \"products_name\",\n",
        "  \"users_review\",\n",
        "  \"users_name\",\n",
        "  \"review_date\",\n",
        "  \"rating\"\n",
        "    ])"
      ],
      "metadata": {
        "id": "Qq5iltboxmhe"
      },
      "execution_count": null,
      "outputs": []
    },
    {
      "cell_type": "code",
      "source": [
        "summarization_chain = LLMChain(prompt=summarization_prompt, llm=llm)"
      ],
      "metadata": {
        "id": "2G6G7oRQxqx8"
      },
      "execution_count": null,
      "outputs": []
    },
    {
      "cell_type": "code",
      "source": [
        "summarization_chain.run(\n",
        "     products_name = \"Mac Book Pro - M2 chip\",\n",
        "    users_review = \"\"\"\n",
        "    Now when you talk about buying MacBooks, they have gone up the price levels in the \\\n",
        "    past few years. The basic MacBook Air now comes for over Rs 1 lakh in the country. But if you \\\n",
        "    still need a reliable machine, people find it worth the investment.\n",
        "    \"\"\",\n",
        "    users_name = \"Parvathy\",\n",
        "    review_date = \"September 3, 2023\",\n",
        "    rating = \"8.9 out of 10\"\n",
        ")\n"
      ],
      "metadata": {
        "colab": {
          "base_uri": "https://localhost:8080/",
          "height": 35
        },
        "id": "umUWhengxvHv",
        "outputId": "0b7714cc-7b13-4ec7-ac63-ba110d225bda"
      },
      "execution_count": null,
      "outputs": [
        {
          "output_type": "execute_result",
          "data": {
            "text/plain": [
              "' The Mac Book Pro - M2 chip is a reliable machine that is worth the investment despite its high price point. However, the reviewer did not mention any cons. '"
            ],
            "application/vnd.google.colaboratory.intrinsic+json": {
              "type": "string"
            }
          },
          "metadata": {},
          "execution_count": 35
        }
      ]
    },
    {
      "cell_type": "markdown",
      "source": [
        "#QnA on Data"
      ],
      "metadata": {
        "id": "_QPtvOXuyyCN"
      }
    },
    {
      "cell_type": "code",
      "source": [
        "data = \"\"\"\n",
        "Now when you talk about buying MacBooks, they have gone up the price levels in the \\\n",
        "past few years. The basic MacBook Air now comes for over Rs 1 lakh in the country. But if you \\\n",
        "still need a reliable machine, people find it worth the investment. sleek and compact design \\\n",
        "\n",
        "\n",
        "the og mac logo and the super powered m1 chip is cherry on icing. I personally feel\\\n",
        "it could be designed with a fresh pair of eyes, design lacks innovation. Butterfly keyboards\\\n",
        "suck... better its replaced by the conventional ones\n",
        "\"\"\"\n"
      ],
      "metadata": {
        "id": "dXqS3KloyvoP"
      },
      "execution_count": null,
      "outputs": []
    },
    {
      "cell_type": "code",
      "source": [
        "question_1 = \"\"\"\n",
        "\n",
        "\n",
        "data: {data}\n",
        "\n",
        "\n",
        "<<<<<<<<<<<<<<<<<<<<<<<<<<<<>>>>>>>>>>>>>>>>>>>>>>>>>>>>>>>>\n",
        "What are the key features of the MacBook Pro mentioned in the review?\n",
        "\n",
        "\n",
        "\n",
        "\n",
        "Question Generation\n",
        "\"\"\"\n",
        "\n",
        "\n",
        "prompt_template = PromptTemplate(template=question_1, input_variables=[\n",
        "    \"data\"\n",
        "])\n",
        "\n",
        "\n",
        "chain_q_1 = LLMChain(prompt=prompt_template, llm=llm)\n",
        "chain_q_1.run(data=data)"
      ],
      "metadata": {
        "colab": {
          "base_uri": "https://localhost:8080/",
          "height": 53
        },
        "id": "ihA-N5egy_FU",
        "outputId": "d3e923dd-f12e-4db2-c295-558de618994c"
      },
      "execution_count": null,
      "outputs": [
        {
          "output_type": "execute_result",
          "data": {
            "text/plain": [
              "' The key features of the MacBook Pro according to the review are that it is a reliable machine, has a sleek and compact design, and includes the M1 chip. Additionally, it mentions that the design could use some innovation, and the butterfly keyboard should be replaced with a conventional keyboard. '"
            ],
            "application/vnd.google.colaboratory.intrinsic+json": {
              "type": "string"
            }
          },
          "metadata": {},
          "execution_count": 38
        }
      ]
    },
    {
      "cell_type": "code",
      "source": [
        "question_2 = \"\"\"\n",
        "\n",
        "\n",
        "data: {data}\n",
        "\n",
        "\n",
        "<<<<<<<<<<<<<<<<<<<<<<<<<<<<>>>>>>>>>>>>>>>>>>>>>>>>>>>>>>>>\n",
        " Are there any drawbacks or cons mentioned in the MacBook Pro review?\n",
        "\n",
        "\n",
        "\n",
        "\n",
        "Question Generation\n",
        "\"\"\"\n",
        "\n",
        "\n",
        "prompt_template_2 = PromptTemplate(template=question_2, input_variables=[\n",
        "    \"data\"\n",
        "])\n",
        "\n",
        "\n",
        "chain_q_2 = LLMChain(prompt=prompt_template_2, llm=llm)\n",
        "chain_q_2.run(data=data)"
      ],
      "metadata": {
        "colab": {
          "base_uri": "https://localhost:8080/",
          "height": 35
        },
        "id": "FvIiR1qDzEEM",
        "outputId": "ec279603-632f-47fc-af3e-be01fc8568b3"
      },
      "execution_count": null,
      "outputs": [
        {
          "output_type": "execute_result",
          "data": {
            "text/plain": [
              "' What are the drawbacks of the MacBook Pro?'"
            ],
            "application/vnd.google.colaboratory.intrinsic+json": {
              "type": "string"
            }
          },
          "metadata": {},
          "execution_count": 40
        }
      ]
    },
    {
      "cell_type": "markdown",
      "source": [
        "Text Classification\n"
      ],
      "metadata": {
        "id": "YEzEgUn10ycK"
      }
    },
    {
      "cell_type": "code",
      "source": [],
      "metadata": {
        "id": "ySUhPjURzL9W"
      },
      "execution_count": null,
      "outputs": []
    }
  ]
}